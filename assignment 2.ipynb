{
 "cells": [
  {
   "cell_type": "markdown",
   "id": "16ad4027-3f65-4816-b849-95911be224fd",
   "metadata": {},
   "source": [
    "Q1. How do you comment code in Python? What are the different types of comments?"
   ]
  },
  {
   "cell_type": "markdown",
   "id": "db518670-7fb8-47a2-aefb-6a3907701195",
   "metadata": {},
   "source": [
    "We comment code in python to make the code easy to read by ourselves and others. \n",
    "# single line comment\n",
    "\n",
    "#Muli\n",
    "#line\n",
    "#comment"
   ]
  },
  {
   "cell_type": "markdown",
   "id": "151a2341-0954-4cc6-9e54-286d01ed4431",
   "metadata": {},
   "source": [
    "Q2. What are variables in Python? How do you declare and assign values to variables?"
   ]
  },
  {
   "cell_type": "markdown",
   "id": "9e9586b6-ded1-469e-aafd-81a0792f7a54",
   "metadata": {},
   "source": [
    "Variables are used to store values in python. To declare a variable we can use '=' after the variable name for example \n",
    "a= 5\n",
    "where, 'a' is variable name and its value is 5."
   ]
  },
  {
   "cell_type": "markdown",
   "id": "45e31276-ff98-496e-9ee6-fd55e2e4d52f",
   "metadata": {},
   "source": [
    "Q3. How do you convert one data type to another in Python?"
   ]
  },
  {
   "cell_type": "markdown",
   "id": "ba6763a7-b436-40ac-98d7-c2622c06c70a",
   "metadata": {},
   "source": [
    "We can convert one variable into another using typecasting. For example we have to conver 5.65 into integer \n",
    "we can use a=int(5.65)"
   ]
  },
  {
   "cell_type": "markdown",
   "id": "e267f2cd-e28b-4ff7-a35b-ec16fe26a1e9",
   "metadata": {},
   "source": [
    "Q4. How do you write and execute a Python script from the command line?"
   ]
  },
  {
   "cell_type": "markdown",
   "id": "11dbe334-71e6-41bb-a7f7-6dc70f8fa5c4",
   "metadata": {},
   "source": [
    "We can execute python script from command line by:-\n",
    "1- use cd command to change directory to where the script is\n",
    "2- then use 'python sciptname.py' to run the script"
   ]
  },
  {
   "cell_type": "markdown",
   "id": "5ef2260c-dfc0-4b66-ac61-425681544f8a",
   "metadata": {},
   "source": [
    "Q5. Given a list my_list = [1, 2, 3, 4, 5], write the code to slice the list and obtain the sub-list [2, 3]."
   ]
  },
  {
   "cell_type": "code",
   "execution_count": 4,
   "id": "fad73ec9-e03a-4c6e-baaa-a6ebe09a5982",
   "metadata": {},
   "outputs": [
    {
     "data": {
      "text/plain": [
       "[2, 3]"
      ]
     },
     "execution_count": 4,
     "metadata": {},
     "output_type": "execute_result"
    }
   ],
   "source": [
    "my_list = [1, 2, 3, 4, 5]\n",
    "sub_list = my_list[1:3]\n",
    "sub_list"
   ]
  },
  {
   "cell_type": "markdown",
   "id": "5b8cb87b-c5ce-404b-b532-3efcf1c66b87",
   "metadata": {},
   "source": [
    "Q6. What is a complex number in mathematics, and how is it represented in Python?"
   ]
  },
  {
   "cell_type": "code",
   "execution_count": null,
   "id": "6129e245-0f80-4ba8-a3d2-d9c00e163417",
   "metadata": {},
   "outputs": [],
   "source": [
    "Complex number is a number that consits of two parts real and imaginary part. It is written in the form a+bi.\n",
    "In python we can use complex() to represent complex numbers\n",
    "a= complex(2.4)"
   ]
  },
  {
   "cell_type": "markdown",
   "id": "03f39999-a86d-460f-8f35-645a832aa850",
   "metadata": {},
   "source": [
    "Q7. What is the correct way to declare a variable named age and assign the value 25 to it?"
   ]
  },
  {
   "cell_type": "code",
   "execution_count": 5,
   "id": "6de17709-4f03-4479-ba6f-a74d21ef89e6",
   "metadata": {},
   "outputs": [
    {
     "data": {
      "text/plain": [
       "25"
      ]
     },
     "execution_count": 5,
     "metadata": {},
     "output_type": "execute_result"
    }
   ],
   "source": [
    "age=25\n",
    "age"
   ]
  },
  {
   "cell_type": "markdown",
   "id": "8528f7df-a3a6-4f46-a009-f8c3bbbf1099",
   "metadata": {},
   "source": [
    "Q8. Declare a variable named price and assign the value 9.99 to it. What data type does this variable belong to?"
   ]
  },
  {
   "cell_type": "code",
   "execution_count": 8,
   "id": "ac9e5a99-3c7a-402b-9c7d-4388939f8b31",
   "metadata": {},
   "outputs": [
    {
     "name": "stdout",
     "output_type": "stream",
     "text": [
      "9.99\n"
     ]
    },
    {
     "data": {
      "text/plain": [
       "float"
      ]
     },
     "execution_count": 8,
     "metadata": {},
     "output_type": "execute_result"
    }
   ],
   "source": [
    "price = 9.99\n",
    "print(price)\n",
    "type(price)"
   ]
  },
  {
   "cell_type": "markdown",
   "id": "7a743f15-1446-4026-9781-4578ed456c7e",
   "metadata": {},
   "source": [
    "Q9. Create a variable named name and assign your full name to it as a string. How would you print the value of this variable?"
   ]
  },
  {
   "cell_type": "code",
   "execution_count": 9,
   "id": "7b3e2310-0d25-48c1-bdf6-f72378dfbd15",
   "metadata": {},
   "outputs": [
    {
     "name": "stdout",
     "output_type": "stream",
     "text": [
      "Aditya Kumar\n"
     ]
    }
   ],
   "source": [
    "name='Aditya Kumar'\n",
    "print(name)"
   ]
  },
  {
   "cell_type": "markdown",
   "id": "fa4ac143-e703-4d97-ab8e-18cdeffe748b",
   "metadata": {},
   "source": [
    "Q10. Given the string \"Hello, World!\", extract the substring \"World\"."
   ]
  },
  {
   "cell_type": "code",
   "execution_count": 10,
   "id": "c3f7c2d9-4977-414b-8feb-9fa8448e8e48",
   "metadata": {},
   "outputs": [
    {
     "name": "stdout",
     "output_type": "stream",
     "text": [
      "World\n"
     ]
    }
   ],
   "source": [
    "string = \"Hello, World!\"\n",
    "substring = string[7:12]\n",
    "print(substring)"
   ]
  },
  {
   "cell_type": "markdown",
   "id": "cfce6f67-6edf-46f1-bf93-f607a8d718cb",
   "metadata": {},
   "source": [
    "Q11. Create a variable named \"is_student\" and assign it a boolean value indicating whether you are\n",
    "currently a student or not."
   ]
  },
  {
   "cell_type": "code",
   "execution_count": 11,
   "id": "e28ad8b6-d9ae-4155-a71a-f7fbc7db480f",
   "metadata": {},
   "outputs": [],
   "source": [
    "is_student=True"
   ]
  },
  {
   "cell_type": "code",
   "execution_count": null,
   "id": "8dc5cc2c-928c-4c86-b0a1-503983b85541",
   "metadata": {},
   "outputs": [],
   "source": []
  }
 ],
 "metadata": {
  "kernelspec": {
   "display_name": "Python 3 (ipykernel)",
   "language": "python",
   "name": "python3"
  },
  "language_info": {
   "codemirror_mode": {
    "name": "ipython",
    "version": 3
   },
   "file_extension": ".py",
   "mimetype": "text/x-python",
   "name": "python",
   "nbconvert_exporter": "python",
   "pygments_lexer": "ipython3",
   "version": "3.10.8"
  }
 },
 "nbformat": 4,
 "nbformat_minor": 5
}
