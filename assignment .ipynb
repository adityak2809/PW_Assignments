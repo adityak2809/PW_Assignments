{
 "cells": [
  {
   "cell_type": "raw",
   "id": "679fdb41-0cb1-44f3-92b5-6e45a0531502",
   "metadata": {},
   "source": []
  },
  {
   "cell_type": "code",
   "execution_count": 1,
   "id": "7455a296-6847-4557-ae58-e031003e5f62",
   "metadata": {},
   "outputs": [
    {
     "data": {
      "text/plain": [
       "'hello'"
      ]
     },
     "execution_count": 1,
     "metadata": {},
     "output_type": "execute_result"
    }
   ],
   "source": [
    "\"\"\"Q1. Create one variable containing following type of data:\n",
    "(i) string\n",
    "(ii) list\n",
    "(iii) float\n",
    "(iv) tuple\"\"\"\n",
    "\n",
    "\n",
    "a = 'hello'\n",
    "a"
   ]
  },
  {
   "cell_type": "code",
   "execution_count": 2,
   "id": "836a4934-0669-4c20-ada3-4819766f0468",
   "metadata": {},
   "outputs": [
    {
     "data": {
      "text/plain": [
       "[512, 4.54, 'abc', True]"
      ]
     },
     "execution_count": 2,
     "metadata": {},
     "output_type": "execute_result"
    }
   ],
   "source": [
    "l=[512,4.54,'abc',True]\n",
    "l"
   ]
  },
  {
   "cell_type": "code",
   "execution_count": 3,
   "id": "bac7dc2e-38b8-4f3b-831d-1b16bf4fc003",
   "metadata": {},
   "outputs": [
    {
     "data": {
      "text/plain": [
       "12.5455"
      ]
     },
     "execution_count": 3,
     "metadata": {},
     "output_type": "execute_result"
    }
   ],
   "source": [
    "b=12.5455\n",
    "b"
   ]
  },
  {
   "cell_type": "code",
   "execution_count": 4,
   "id": "4ac18753-847b-454e-a1ef-ee99df063897",
   "metadata": {},
   "outputs": [
    {
     "data": {
      "text/plain": [
       "('rose', 'lilly', 'jasmin')"
      ]
     },
     "execution_count": 4,
     "metadata": {},
     "output_type": "execute_result"
    }
   ],
   "source": [
    "t=(\"rose\",\"lilly\",\"jasmin\")\n",
    "t"
   ]
  },
  {
   "cell_type": "code",
   "execution_count": null,
   "id": "7e4eff6a-44af-4fdb-8450-d82558ad297f",
   "metadata": {},
   "outputs": [],
   "source": [
    "\"\"\"Q2. Given are some following variables containing data:\n",
    "(i) var1 = ‘ ‘\n",
    "(ii) var2 = ‘[ DS , ML , Python]’\n",
    "(iii) var3 = [ ‘DS’ , ’ML’ , ‘Python’ ]\n",
    "(iv) var4 = 1.\n",
    "What will be the data type of the above given variable.\"\"\"\n",
    "\n",
    "Ans. \n",
    "(i) var1 = ‘ ‘\n",
    "String\n",
    "\n",
    "(ii) var2 = ‘[ DS , ML , Python]’\n",
    "String\n",
    "\n",
    "(iii) var3 = [ ‘DS’ , ’ML’ , ‘Python’ ]\n",
    "List\n",
    "\n",
    "(iv) var4 = 1.\n",
    "Float"
   ]
  },
  {
   "cell_type": "code",
   "execution_count": null,
   "id": "3a75634c-fdcc-4a02-b470-22a6dd4bbc25",
   "metadata": {},
   "outputs": [],
   "source": [
    "\"\"\"\n",
    "Q3. Explain the use of the following operators using an example:\n",
    "(i) /\n",
    "(ii) %\n",
    "(iii) //\n",
    "(iv) ** \n",
    "\"\"\""
   ]
  },
  {
   "cell_type": "code",
   "execution_count": 9,
   "id": "321092de-d475-469f-afb3-d72ecffbbe59",
   "metadata": {},
   "outputs": [
    {
     "data": {
      "text/plain": [
       "2.46"
      ]
     },
     "execution_count": 9,
     "metadata": {},
     "output_type": "execute_result"
    }
   ],
   "source": [
    "#Divide\n",
    "123/50"
   ]
  },
  {
   "cell_type": "code",
   "execution_count": 7,
   "id": "8d908c82-4ee9-4d11-9b8c-c030f0dcf515",
   "metadata": {},
   "outputs": [
    {
     "data": {
      "text/plain": [
       "1"
      ]
     },
     "execution_count": 7,
     "metadata": {},
     "output_type": "execute_result"
    }
   ],
   "source": [
    "#Modulo\n",
    "5%2"
   ]
  },
  {
   "cell_type": "code",
   "execution_count": 11,
   "id": "d5831e75-2a4e-467b-9a53-e7e3515be9d0",
   "metadata": {},
   "outputs": [
    {
     "data": {
      "text/plain": [
       "2"
      ]
     },
     "execution_count": 11,
     "metadata": {},
     "output_type": "execute_result"
    }
   ],
   "source": [
    "#returns the largest possible integer\n",
    "123//50"
   ]
  },
  {
   "cell_type": "code",
   "execution_count": 12,
   "id": "8f6ccf04-e60f-4393-93d1-153515b071a3",
   "metadata": {},
   "outputs": [
    {
     "data": {
      "text/plain": [
       "8"
      ]
     },
     "execution_count": 12,
     "metadata": {},
     "output_type": "execute_result"
    }
   ],
   "source": [
    "#Exponentiation \n",
    "2**3"
   ]
  },
  {
   "cell_type": "code",
   "execution_count": 17,
   "id": "2a7ccabd-bd1c-46e9-88ca-d01be0628ee8",
   "metadata": {},
   "outputs": [
    {
     "name": "stdout",
     "output_type": "stream",
     "text": [
      "[8] <class 'int'>\n",
      "[8] <class 'str'>\n",
      "[8] <class 'float'>\n",
      "[8] <class 'bool'>\n",
      "[8] <class 'list'>\n"
     ]
    }
   ],
   "source": [
    "\"\"\"Q4. Create a list of length 10 of your choice containing multiple types of data. Using for loop print the\n",
    "element and its data type.\"\"\"\n",
    "\n",
    "abc = [50, \"apple\", 3.0, True, [8],]\n",
    "for i in abc:\n",
    "    print(element, type(i))"
   ]
  },
  {
   "cell_type": "raw",
   "id": "5873f30f-5a86-4348-a1be-0838aa5645d1",
   "metadata": {},
   "source": [
    "Q5. Using a while loop, verify if the number A is purely divisible by number B and if so then how many\n",
    "times it can be divisible."
   ]
  },
  {
   "cell_type": "code",
   "execution_count": 1,
   "id": "c445efa6-a67a-4a27-aaca-fa47b6d331d7",
   "metadata": {},
   "outputs": [
    {
     "name": "stdout",
     "output_type": "stream",
     "text": [
      "2\n"
     ]
    }
   ],
   "source": [
    "\"\"\"Q5. Using a while loop, verify if the number A is purely divisible by number B and if so then how many\n",
    "times it can be divisible.\"\"\"\n",
    "A = 50\n",
    "B = 5\n",
    "count = 0\n",
    "\n",
    "while A % B == 0:\n",
    "    A = A // B\n",
    "    count += 1\n",
    "\n",
    "print(count)"
   ]
  },
  {
   "cell_type": "code",
   "execution_count": 16,
   "id": "7dfc870d-c55f-4587-ad15-a9030e6f5186",
   "metadata": {},
   "outputs": [
    {
     "name": "stdout",
     "output_type": "stream",
     "text": [
      "1 is not divisible by 3\n",
      "2 is not divisible by 3\n",
      "3 is divisible by 3\n",
      "4 is not divisible by 3\n",
      "5 is not divisible by 3\n",
      "6 is divisible by 3\n",
      "7 is not divisible by 3\n",
      "8 is not divisible by 3\n",
      "9 is divisible by 3\n",
      "10 is not divisible by 3\n",
      "11 is not divisible by 3\n",
      "12 is divisible by 3\n",
      "13 is not divisible by 3\n",
      "14 is not divisible by 3\n",
      "15 is divisible by 3\n",
      "16 is not divisible by 3\n",
      "17 is not divisible by 3\n",
      "18 is divisible by 3\n",
      "19 is not divisible by 3\n",
      "20 is not divisible by 3\n",
      "21 is divisible by 3\n",
      "22 is not divisible by 3\n",
      "23 is not divisible by 3\n",
      "24 is divisible by 3\n",
      "25 is not divisible by 3\n"
     ]
    }
   ],
   "source": [
    "\"\"\"Q6.Create a list containing 25 int type data. Using for loop and if-else condition print if the element is\n",
    "divisible by 3 or not.\"\"\"\n",
    "my_list = [i for i in range(1,26)]\n",
    "for i in my_list:\n",
    "    if i % 3 == 0:\n",
    "        print(i, \"is divisible by 3\")\n",
    "    else:\n",
    "        print(i, \"is not divisible by 3\")"
   ]
  },
  {
   "cell_type": "code",
   "execution_count": null,
   "id": "bf810c39-c568-464a-82d8-1bfd608b5e4a",
   "metadata": {},
   "outputs": [],
   "source": [
    "\"\"\"Q7. What do you understand about mutable and immutable data types? Give examples for both showing\n",
    "this property. \"\"\""
   ]
  },
  {
   "cell_type": "code",
   "execution_count": null,
   "id": "61d6df56-d21f-4669-b303-41a523b6f7e4",
   "metadata": {},
   "outputs": [],
   "source": [
    "\"\"\" Ans.Mutable data types can be changed and imutable datatypes cannot be changed.\"\"\""
   ]
  },
  {
   "cell_type": "code",
   "execution_count": 18,
   "id": "452880c4-4944-4590-af70-9b7cbcc1a7b2",
   "metadata": {},
   "outputs": [
    {
     "data": {
      "text/plain": [
       "[55, 62, 456, 78]"
      ]
     },
     "execution_count": 18,
     "metadata": {},
     "output_type": "execute_result"
    }
   ],
   "source": [
    "l4= [55,62,456,78]\n",
    "l4"
   ]
  },
  {
   "cell_type": "code",
   "execution_count": 19,
   "id": "e04a4153-4b4d-4733-9a28-c7c884f70c1e",
   "metadata": {},
   "outputs": [],
   "source": [
    "l4[3] = 500"
   ]
  },
  {
   "cell_type": "code",
   "execution_count": 20,
   "id": "c4daa2df-35fa-41e3-8b49-b71043116a0c",
   "metadata": {},
   "outputs": [
    {
     "data": {
      "text/plain": [
       "[55, 62, 456, 500]"
      ]
     },
     "execution_count": 20,
     "metadata": {},
     "output_type": "execute_result"
    }
   ],
   "source": [
    "l4"
   ]
  },
  {
   "cell_type": "code",
   "execution_count": 28,
   "id": "05f5702c-8720-4102-8f89-21b562c9aff0",
   "metadata": {},
   "outputs": [
    {
     "data": {
      "text/plain": [
       "(152, 565, 544)"
      ]
     },
     "execution_count": 28,
     "metadata": {},
     "output_type": "execute_result"
    }
   ],
   "source": [
    "t=(152,565,544)\n",
    "t"
   ]
  },
  {
   "cell_type": "code",
   "execution_count": 29,
   "id": "fa146f7e-f122-41dd-bb3c-5638d54fc62b",
   "metadata": {},
   "outputs": [
    {
     "data": {
      "text/plain": [
       "152"
      ]
     },
     "execution_count": 29,
     "metadata": {},
     "output_type": "execute_result"
    }
   ],
   "source": [
    "t[0]"
   ]
  },
  {
   "cell_type": "code",
   "execution_count": 31,
   "id": "84bd915b-5a12-4a3d-b6cd-a6e1d0f4c22c",
   "metadata": {},
   "outputs": [
    {
     "ename": "TypeError",
     "evalue": "'tuple' object does not support item assignment",
     "output_type": "error",
     "traceback": [
      "\u001b[0;31m---------------------------------------------------------------------------\u001b[0m",
      "\u001b[0;31mTypeError\u001b[0m                                 Traceback (most recent call last)",
      "Cell \u001b[0;32mIn[31], line 1\u001b[0m\n\u001b[0;32m----> 1\u001b[0m \u001b[43mt\u001b[49m\u001b[43m[\u001b[49m\u001b[38;5;241;43m0\u001b[39;49m\u001b[43m]\u001b[49m\u001b[38;5;241m=\u001b[39m\u001b[38;5;241m56\u001b[39m \u001b[38;5;66;03m#values inside a tuple can't be change since tuple is imutable\u001b[39;00m\n",
      "\u001b[0;31mTypeError\u001b[0m: 'tuple' object does not support item assignment"
     ]
    }
   ],
   "source": [
    "t[0]=56 #values inside a tuple can't be change since tuple is imutable"
   ]
  },
  {
   "cell_type": "code",
   "execution_count": null,
   "id": "6dade864-e31b-4ff9-a616-a93483e8955f",
   "metadata": {},
   "outputs": [],
   "source": []
  }
 ],
 "metadata": {
  "kernelspec": {
   "display_name": "Python 3 (ipykernel)",
   "language": "python",
   "name": "python3"
  },
  "language_info": {
   "codemirror_mode": {
    "name": "ipython",
    "version": 3
   },
   "file_extension": ".py",
   "mimetype": "text/x-python",
   "name": "python",
   "nbconvert_exporter": "python",
   "pygments_lexer": "ipython3",
   "version": "3.10.8"
  }
 },
 "nbformat": 4,
 "nbformat_minor": 5
}
